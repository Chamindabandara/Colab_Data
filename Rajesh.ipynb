{
  "nbformat": 4,
  "nbformat_minor": 0,
  "metadata": {
    "colab": {
      "name": "Rajesh.ipynb",
      "provenance": [],
      "include_colab_link": true
    },
    "kernelspec": {
      "name": "python3",
      "display_name": "Python 3"
    }
  },
  "cells": [
    {
      "cell_type": "markdown",
      "metadata": {
        "id": "view-in-github",
        "colab_type": "text"
      },
      "source": [
        "<a href=\"https://colab.research.google.com/github/Chamindabandara/Colab_Data/blob/master/Rajesh.ipynb\" target=\"_parent\"><img src=\"https://colab.research.google.com/assets/colab-badge.svg\" alt=\"Open In Colab\"/></a>"
      ]
    },
    {
      "cell_type": "code",
      "metadata": {
        "id": "1Cu3mr_8z0Su",
        "colab_type": "code",
        "outputId": "2c8d46ef-ec16-43c2-98fd-70645bdbce34",
        "colab": {
          "base_uri": "https://localhost:8080/",
          "height": 124
        }
      },
      "source": [
        "!git clone https://github.com/Chamindabandara/Colab_Data.git"
      ],
      "execution_count": 1,
      "outputs": [
        {
          "output_type": "stream",
          "text": [
            "Cloning into 'Colab_Data'...\n",
            "remote: Enumerating objects: 14, done.\u001b[K\n",
            "remote: Counting objects:   7% (1/14)\u001b[K\rremote: Counting objects:  14% (2/14)\u001b[K\rremote: Counting objects:  21% (3/14)\u001b[K\rremote: Counting objects:  28% (4/14)\u001b[K\rremote: Counting objects:  35% (5/14)\u001b[K\rremote: Counting objects:  42% (6/14)\u001b[K\rremote: Counting objects:  50% (7/14)\u001b[K\rremote: Counting objects:  57% (8/14)\u001b[K\rremote: Counting objects:  64% (9/14)\u001b[K\rremote: Counting objects:  71% (10/14)\u001b[K\rremote: Counting objects:  78% (11/14)\u001b[K\rremote: Counting objects:  85% (12/14)\u001b[K\rremote: Counting objects:  92% (13/14)\u001b[K\rremote: Counting objects: 100% (14/14)\u001b[K\rremote: Counting objects: 100% (14/14), done.\u001b[K\n",
            "remote: Compressing objects:   8% (1/12)\u001b[K\rremote: Compressing objects:  16% (2/12)\u001b[K\rremote: Compressing objects:  25% (3/12)\u001b[K\rremote: Compressing objects:  33% (4/12)\u001b[K\rremote: Compressing objects:  41% (5/12)\u001b[K\rremote: Compressing objects:  50% (6/12)\u001b[K\rremote: Compressing objects:  58% (7/12)\u001b[K\rremote: Compressing objects:  66% (8/12)\u001b[K\rremote: Compressing objects:  75% (9/12)\u001b[K\rremote: Compressing objects:  83% (10/12)\u001b[K\rremote: Compressing objects:  91% (11/12)\u001b[K\rremote: Compressing objects: 100% (12/12)\u001b[K\rremote: Compressing objects: 100% (12/12), done.\u001b[K\n",
            "remote: Total 14 (delta 1), reused 0 (delta 0), pack-reused 0\u001b[K\n",
            "Unpacking objects:   7% (1/14)   \rUnpacking objects:  14% (2/14)   \rUnpacking objects:  21% (3/14)   \rUnpacking objects:  28% (4/14)   \rUnpacking objects:  35% (5/14)   \rUnpacking objects:  42% (6/14)   \rUnpacking objects:  50% (7/14)   \rUnpacking objects:  57% (8/14)   \rUnpacking objects:  64% (9/14)   \rUnpacking objects:  71% (10/14)   \rUnpacking objects:  78% (11/14)   \rUnpacking objects:  85% (12/14)   \rUnpacking objects:  92% (13/14)   \rUnpacking objects: 100% (14/14)   \rUnpacking objects: 100% (14/14), done.\n"
          ],
          "name": "stdout"
        }
      ]
    },
    {
      "cell_type": "code",
      "metadata": {
        "id": "aCoYoFf5_eus",
        "colab_type": "code",
        "outputId": "0819f306-6eb0-4458-b083-dd52ad053c11",
        "colab": {
          "base_uri": "https://localhost:8080/",
          "height": 239
        }
      },
      "source": [
        "import numpy\n",
        "x1 =[0 for i in range(21)]\n",
        "x2 =[0 for i in range(51)]\n",
        "x3 =[0 for i in range(51)]\n",
        "output11 = [0 for i in range(21)]\n",
        "output12 = [0 for i in range(21)]\n",
        "output13 = [0 for i in range(21)]\n",
        "output14 = [0 for i in range(21)]\n",
        "output21 = [0 for i in range(51)]\n",
        "output22 = [0 for i in range(51)]\n",
        "output23 = [0 for i in range(51)]\n",
        "output24 = [0 for i in range(51)]\n",
        "output31 = [0 for i in range(51)]\n",
        "output32 = [0 for i in range(51)]\n",
        "output33 = [0 for i in range(51)]\n",
        "output34 = [0 for i in range(51)]\n",
        "it = 0\n",
        "with open('result_11.txt') as f:\n",
        "    for line in f:\n",
        "        o1, o2 = line.split(',')\n",
        "        x1[it]=float(o1[1:])\n",
        "        output11[it]=float(o2[0:-2])\n",
        "        it +=1\n",
        "it = 0\n",
        "with open('result_12.txt') as f:\n",
        "    for line in f:\n",
        "        o1, o2 = line.split(',')\n",
        "        output12[it]=float(o2[0:-2])\n",
        "        it +=1\n",
        "it = 0\n",
        "with open('result_13.txt') as f:\n",
        "    for line in f:\n",
        "        o1, o2 = line.split(',')\n",
        "        output13[it]=float(o2[0:-2])\n",
        "        it +=1\n",
        "it = 0\n",
        "with open('result_14.txt') as f:\n",
        "    for line in f:\n",
        "        o1, o2 = line.split(',')\n",
        "        output14[it]=float(o2[0:-2])\n",
        "        it +=1\n",
        "it = 0\n",
        "with open('result_21.txt') as f:\n",
        "    for line in f:\n",
        "        o1, o2 = line.split(',')\n",
        "        x2[it]=float(o1[1:])\n",
        "        output21[it]=float(o2[0:-2])\n",
        "        it +=1\n",
        "it = 0\n",
        "with open('result_22.txt') as f:\n",
        "    for line in f:\n",
        "        o1, o2 = line.split(',')\n",
        "        output22[it]=float(o2[0:-2])\n",
        "        it +=1\n",
        "it = 0\n",
        "with open('result_23.txt') as f:\n",
        "    for line in f:\n",
        "        o1, o2 = line.split(',')\n",
        "        output23[it]=float(o2[0:-2])\n",
        "        it +=1\n",
        "it = 0\n",
        "with open('result_24.txt') as f:\n",
        "    for line in f:\n",
        "        o1, o2 = line.split(',')\n",
        "        output24[it]=float(o2[0:-2])\n",
        "        it +=1\n",
        "it = 0\n",
        "with open('result_31.txt') as f:\n",
        "    for line in f:\n",
        "        o1, o2 = line.split(',')\n",
        "        x3[it]=float(o1[1:])\n",
        "        output31[it]=float(o2[0:-2])\n",
        "        it +=1\n",
        "it = 0\n",
        "with open('result_32.txt') as f:\n",
        "    for line in f:\n",
        "        o1, o2 = line.split(',')\n",
        "        output32[it]=float(o2[0:-2])\n",
        "        it +=1\n",
        "it = 0\n",
        "with open('result_33.txt') as f:\n",
        "    for line in f:\n",
        "        o1, o2 = line.split(',')\n",
        "        output33[it]=float(o2[0:-2])\n",
        "        it +=1\n",
        "it = 0\n",
        "with open('result_34.txt') as f:\n",
        "    for line in f:\n",
        "        o1, o2 = line.split(',')\n",
        "        output34[it]=float(o2[0:-2])\n",
        "        it +=1"
      ],
      "execution_count": 2,
      "outputs": [
        {
          "output_type": "error",
          "ename": "FileNotFoundError",
          "evalue": "ignored",
          "traceback": [
            "\u001b[0;31m---------------------------------------------------------------------------\u001b[0m",
            "\u001b[0;31mFileNotFoundError\u001b[0m                         Traceback (most recent call last)",
            "\u001b[0;32m<ipython-input-2-6138ef8a44b8>\u001b[0m in \u001b[0;36m<module>\u001b[0;34m()\u001b[0m\n\u001b[1;32m     16\u001b[0m \u001b[0moutput34\u001b[0m \u001b[0;34m=\u001b[0m \u001b[0;34m[\u001b[0m\u001b[0;36m0\u001b[0m \u001b[0;32mfor\u001b[0m \u001b[0mi\u001b[0m \u001b[0;32min\u001b[0m \u001b[0mrange\u001b[0m\u001b[0;34m(\u001b[0m\u001b[0;36m51\u001b[0m\u001b[0;34m)\u001b[0m\u001b[0;34m]\u001b[0m\u001b[0;34m\u001b[0m\u001b[0;34m\u001b[0m\u001b[0m\n\u001b[1;32m     17\u001b[0m \u001b[0mit\u001b[0m \u001b[0;34m=\u001b[0m \u001b[0;36m0\u001b[0m\u001b[0;34m\u001b[0m\u001b[0;34m\u001b[0m\u001b[0m\n\u001b[0;32m---> 18\u001b[0;31m \u001b[0;32mwith\u001b[0m \u001b[0mopen\u001b[0m\u001b[0;34m(\u001b[0m\u001b[0;34m'result_11.txt'\u001b[0m\u001b[0;34m)\u001b[0m \u001b[0;32mas\u001b[0m \u001b[0mf\u001b[0m\u001b[0;34m:\u001b[0m\u001b[0;34m\u001b[0m\u001b[0;34m\u001b[0m\u001b[0m\n\u001b[0m\u001b[1;32m     19\u001b[0m     \u001b[0;32mfor\u001b[0m \u001b[0mline\u001b[0m \u001b[0;32min\u001b[0m \u001b[0mf\u001b[0m\u001b[0;34m:\u001b[0m\u001b[0;34m\u001b[0m\u001b[0;34m\u001b[0m\u001b[0m\n\u001b[1;32m     20\u001b[0m         \u001b[0mo1\u001b[0m\u001b[0;34m,\u001b[0m \u001b[0mo2\u001b[0m \u001b[0;34m=\u001b[0m \u001b[0mline\u001b[0m\u001b[0;34m.\u001b[0m\u001b[0msplit\u001b[0m\u001b[0;34m(\u001b[0m\u001b[0;34m','\u001b[0m\u001b[0;34m)\u001b[0m\u001b[0;34m\u001b[0m\u001b[0;34m\u001b[0m\u001b[0m\n",
            "\u001b[0;31mFileNotFoundError\u001b[0m: [Errno 2] No such file or directory: 'result_11.txt'"
          ]
        }
      ]
    },
    {
      "cell_type": "markdown",
      "metadata": {
        "id": "4J_jYgH1uZCv",
        "colab_type": "text"
      },
      "source": [
        "**Output 11**"
      ]
    },
    {
      "cell_type": "code",
      "metadata": {
        "id": "U3LiWWUhSNlt",
        "colab_type": "code",
        "colab": {}
      },
      "source": [
        "# create plot\n",
        "fig, ax = plt.subplots()\n",
        "bar_width = 0.02\n",
        "opacity = 0.8\n",
        "\n",
        "plt.xlim(0.4, 1.05)\n",
        "\n",
        "rects1 = plt.bar(x1, output11, bar_width,\n",
        "alpha=opacity,\n",
        "color='r',\n",
        "label='Test Original')\n",
        "\n",
        "rects2 = plt.bar(numpy.array(x1) + bar_width, output12, bar_width,\n",
        "alpha=opacity,\n",
        "color='b',\n",
        "label='Train Original')\n",
        "\n",
        "plt.xlabel('Attribution Based Confidance')\n",
        "plt.ylabel('Cumulative Fraction of Data')\n",
        "plt.legend()\n",
        "\n",
        "plt.tight_layout()\n",
        "plt.savefig('output11.pdf')  "
      ],
      "execution_count": 0,
      "outputs": []
    },
    {
      "cell_type": "code",
      "metadata": {
        "id": "6vQqxUnMuo4u",
        "colab_type": "code",
        "colab": {}
      },
      "source": [
        ""
      ],
      "execution_count": 0,
      "outputs": []
    },
    {
      "cell_type": "markdown",
      "metadata": {
        "id": "MJi6KcoFurKb",
        "colab_type": "text"
      },
      "source": [
        "**Output 12**"
      ]
    },
    {
      "cell_type": "code",
      "metadata": {
        "colab_type": "code",
        "id": "hMic7eLZupVG",
        "colab": {}
      },
      "source": [
        "# create plot\n",
        "fig, ax = plt.subplots()\n",
        "bar_width = 0.02\n",
        "opacity = 0.8\n",
        "\n",
        "plt.xlim(0.4, 1.05)\n",
        "\n",
        "rects1 = plt.bar(x1, output13, bar_width,\n",
        "alpha=opacity,\n",
        "color='r',\n",
        "label='Test Original')\n",
        "\n",
        "rects2 = plt.bar(numpy.array(x1) + bar_width, output14, bar_width,\n",
        "alpha=opacity,\n",
        "color='b',\n",
        "label='Train Advesarial')\n",
        "\n",
        "plt.xlabel('Attribution Based Confidance')\n",
        "plt.ylabel('Cumulative Fraction of Data')\n",
        "plt.legend()\n",
        "\n",
        "plt.tight_layout()\n",
        "plt.savefig('output12.pdf')  "
      ],
      "execution_count": 0,
      "outputs": []
    },
    {
      "cell_type": "markdown",
      "metadata": {
        "id": "2Gg4SvK4u7-M",
        "colab_type": "text"
      },
      "source": [
        "**Output 21**"
      ]
    },
    {
      "cell_type": "code",
      "metadata": {
        "id": "CAXrCePvu-oU",
        "colab_type": "code",
        "colab": {}
      },
      "source": [
        ""
      ],
      "execution_count": 0,
      "outputs": []
    },
    {
      "cell_type": "code",
      "metadata": {
        "colab_type": "code",
        "id": "xpdANL_zu_B1",
        "colab": {}
      },
      "source": [
        "# create plot\n",
        "fig, ax = plt.subplots()\n",
        "bar_width = 0.008\n",
        "opacity = 0.8\n",
        "\n",
        "plt.xlim(0.5, 1.05)\n",
        "\n",
        "rects1 = plt.bar(x2, output21, bar_width,\n",
        "alpha=opacity,\n",
        "color='r',\n",
        "label='Test Original')\n",
        "\n",
        "rects2 = plt.bar(numpy.array(x2) + bar_width, output22, bar_width,\n",
        "alpha=opacity,\n",
        "color='b',\n",
        "label='Train Original')\n",
        "\n",
        "plt.xlabel('Attribution Based Confidance')\n",
        "plt.ylabel('Cumulative Fraction of Data')\n",
        "plt.legend()\n",
        "\n",
        "plt.tight_layout()\n",
        "plt.savefig('output21.pdf')  "
      ],
      "execution_count": 0,
      "outputs": []
    },
    {
      "cell_type": "markdown",
      "metadata": {
        "id": "RIMn_toBvID0",
        "colab_type": "text"
      },
      "source": [
        "**Output 22**"
      ]
    },
    {
      "cell_type": "code",
      "metadata": {
        "id": "wTfklZ-7vKMu",
        "colab_type": "code",
        "colab": {}
      },
      "source": [
        ""
      ],
      "execution_count": 0,
      "outputs": []
    },
    {
      "cell_type": "code",
      "metadata": {
        "colab_type": "code",
        "id": "VEDTbM7uvKi1",
        "colab": {}
      },
      "source": [
        "# create plot\n",
        "fig, ax = plt.subplots()\n",
        "bar_width = 0.008\n",
        "opacity = 0.8\n",
        "\n",
        "plt.xlim(0.5, 1.05)\n",
        "\n",
        "rects1 = plt.bar(x2, output23, bar_width,\n",
        "alpha=opacity,\n",
        "color='r',\n",
        "label='Test Original')\n",
        "\n",
        "rects2 = plt.bar(numpy.array(x2) + bar_width, output24, bar_width,\n",
        "alpha=opacity,\n",
        "color='b',\n",
        "label='Train Advesarial')\n",
        "\n",
        "plt.xlabel('Attribution Based Confidance')\n",
        "plt.ylabel('Cumulative Fraction of Data')\n",
        "plt.legend()\n",
        "\n",
        "plt.tight_layout()\n",
        "plt.savefig('output22.pdf')  "
      ],
      "execution_count": 0,
      "outputs": []
    },
    {
      "cell_type": "markdown",
      "metadata": {
        "id": "-J88TZ1-vRxj",
        "colab_type": "text"
      },
      "source": [
        "**Output 31**"
      ]
    },
    {
      "cell_type": "code",
      "metadata": {
        "id": "0g6svepevU9D",
        "colab_type": "code",
        "colab": {}
      },
      "source": [
        ""
      ],
      "execution_count": 0,
      "outputs": []
    },
    {
      "cell_type": "code",
      "metadata": {
        "colab_type": "code",
        "id": "4XoFr3MVvVZn",
        "colab": {}
      },
      "source": [
        "# create plot\n",
        "fig, ax = plt.subplots()\n",
        "bar_width = 0.008\n",
        "opacity = 0.8\n",
        "\n",
        "plt.xlim(0.4, 1.05)\n",
        "\n",
        "rects1 = plt.bar(x3, output31, bar_width,\n",
        "alpha=opacity,\n",
        "color='r',\n",
        "label='Test Original')\n",
        "\n",
        "rects2 = plt.bar(numpy.array(x3) + bar_width, output32, bar_width,\n",
        "alpha=opacity,\n",
        "color='b',\n",
        "label='Train Advesarial')\n",
        "\n",
        "plt.xlabel('Attribution Based Confidance')\n",
        "plt.ylabel('Cumulative Fraction of Data')\n",
        "plt.legend()\n",
        "\n",
        "plt.tight_layout()\n",
        "plt.savefig('output31.pdf')  "
      ],
      "execution_count": 0,
      "outputs": []
    },
    {
      "cell_type": "markdown",
      "metadata": {
        "id": "DQW2OK-vvbid",
        "colab_type": "text"
      },
      "source": [
        "**Output 32**"
      ]
    },
    {
      "cell_type": "code",
      "metadata": {
        "id": "IIyCVlnKveLj",
        "colab_type": "code",
        "colab": {}
      },
      "source": [
        ""
      ],
      "execution_count": 0,
      "outputs": []
    },
    {
      "cell_type": "code",
      "metadata": {
        "colab_type": "code",
        "id": "nCpkZDSYvefn",
        "colab": {}
      },
      "source": [
        "# create plot\n",
        "fig, ax = plt.subplots()\n",
        "bar_width = 0.008\n",
        "opacity = 0.8\n",
        "\n",
        "plt.xlim(0.4, 1.05)\n",
        "\n",
        "rects1 = plt.bar(x3, output33, bar_width,\n",
        "alpha=opacity,\n",
        "color='r',\n",
        "label='Test Original')\n",
        "\n",
        "rects2 = plt.bar(numpy.array(x3) + bar_width, output34, bar_width,\n",
        "alpha=opacity,\n",
        "color='b',\n",
        "label='Train Advesarial')\n",
        "\n",
        "plt.xlabel('Attribution Based Confidance')\n",
        "plt.ylabel('Cumulative Fraction of Data')\n",
        "plt.legend()\n",
        "\n",
        "plt.tight_layout()\n",
        "plt.savefig('output32.pdf')  "
      ],
      "execution_count": 0,
      "outputs": []
    }
  ]
}