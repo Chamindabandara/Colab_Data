{
  "nbformat": 4,
  "nbformat_minor": 0,
  "metadata": {
    "colab": {
      "name": "Rajesh.ipynb",
      "provenance": [],
      "include_colab_link": true
    },
    "kernelspec": {
      "name": "python3",
      "display_name": "Python 3"
    }
  },
  "cells": [
    {
      "cell_type": "markdown",
      "metadata": {
        "id": "view-in-github",
        "colab_type": "text"
      },
      "source": [
        "<a href=\"https://colab.research.google.com/github/Chamindabandara/Colab_Data/blob/master/Rajesh.ipynb\" target=\"_parent\"><img src=\"https://colab.research.google.com/assets/colab-badge.svg\" alt=\"Open In Colab\"/></a>"
      ]
    },
    {
      "cell_type": "code",
      "metadata": {
        "id": "1Cu3mr_8z0Su",
        "colab_type": "code",
        "outputId": "cd29e61f-6247-407a-a0f5-4e04204baa45",
        "colab": {
          "base_uri": "https://localhost:8080/",
          "height": 35
        }
      },
      "source": [
        "from google.colab import drive\n",
        "drive.mount('/content/gdrive')"
      ],
      "execution_count": 4,
      "outputs": [
        {
          "output_type": "stream",
          "text": [
            "Drive already mounted at /content/gdrive; to attempt to forcibly remount, call drive.mount(\"/content/gdrive\", force_remount=True).\n"
          ],
          "name": "stdout"
        }
      ]
    },
    {
      "cell_type": "code",
      "metadata": {
        "id": "aCoYoFf5_eus",
        "colab_type": "code",
        "colab": {}
      },
      "source": [
        "import numpy\n",
        "x1 =[0 for i in range(21)]\n",
        "x2 =[0 for i in range(51)]\n",
        "x3 =[0 for i in range(51)]\n",
        "output11 = [0 for i in range(21)]\n",
        "output12 = [0 for i in range(21)]\n",
        "output13 = [0 for i in range(21)]\n",
        "output14 = [0 for i in range(21)]\n",
        "output21 = [0 for i in range(51)]\n",
        "output22 = [0 for i in range(51)]\n",
        "output23 = [0 for i in range(51)]\n",
        "output24 = [0 for i in range(51)]\n",
        "output31 = [0 for i in range(51)]\n",
        "output32 = [0 for i in range(51)]\n",
        "output33 = [0 for i in range(51)]\n",
        "output34 = [0 for i in range(51)]\n",
        "it = 0\n",
        "with open('/content/gdrive/My Drive/Colab_Data/Rajesh/result_11.txt') as f:\n",
        "    for line in f:\n",
        "        o1, o2 = line.split(',')\n",
        "        x1[it]=float(o1[1:])\n",
        "        output11[it]=float(o2[0:-2])\n",
        "        it +=1\n",
        "it = 0\n",
        "with open('/content/gdrive/My Drive/Colab_Data/Rajesh/result_12.txt') as f:\n",
        "    for line in f:\n",
        "        o1, o2 = line.split(',')\n",
        "        output12[it]=float(o2[0:-2])\n",
        "        it +=1\n",
        "it = 0\n",
        "with open('/content/gdrive/My Drive/Colab_Data/Rajesh/result_13.txt') as f:\n",
        "    for line in f:\n",
        "        o1, o2 = line.split(',')\n",
        "        output13[it]=float(o2[0:-2])\n",
        "        it +=1\n",
        "it = 0\n",
        "with open('/content/gdrive/My Drive/Colab_Data/Rajesh/result_14.txt') as f:\n",
        "    for line in f:\n",
        "        o1, o2 = line.split(',')\n",
        "        output14[it]=float(o2[0:-2])\n",
        "        it +=1\n",
        "it = 0\n",
        "with open('/content/gdrive/My Drive/Colab_Data/Rajesh/result_21.txt') as f:\n",
        "    for line in f:\n",
        "        o1, o2 = line.split(',')\n",
        "        x2[it]=float(o1[1:])\n",
        "        output21[it]=float(o2[0:-2])\n",
        "        it +=1\n",
        "it = 0\n",
        "with open('/content/gdrive/My Drive/Colab_Data/Rajesh/result_22.txt') as f:\n",
        "    for line in f:\n",
        "        o1, o2 = line.split(',')\n",
        "        output22[it]=float(o2[0:-2])\n",
        "        it +=1\n",
        "it = 0\n",
        "with open('/content/gdrive/My Drive/Colab_Data/Rajesh/result_23.txt') as f:\n",
        "    for line in f:\n",
        "        o1, o2 = line.split(',')\n",
        "        output23[it]=float(o2[0:-2])\n",
        "        it +=1\n",
        "it = 0\n",
        "with open('/content/gdrive/My Drive/Colab_Data/Rajesh/result_24.txt') as f:\n",
        "    for line in f:\n",
        "        o1, o2 = line.split(',')\n",
        "        output24[it]=float(o2[0:-2])\n",
        "        it +=1\n",
        "it = 0\n",
        "with open('/content/gdrive/My Drive/Colab_Data/Rajesh/result_31.txt') as f:\n",
        "    for line in f:\n",
        "        o1, o2 = line.split(',')\n",
        "        x3[it]=float(o1[1:])\n",
        "        output31[it]=float(o2[0:-2])\n",
        "        it +=1\n",
        "it = 0\n",
        "with open('/content/gdrive/My Drive/Colab_Data/Rajesh/result_32.txt') as f:\n",
        "    for line in f:\n",
        "        o1, o2 = line.split(',')\n",
        "        output32[it]=float(o2[0:-2])\n",
        "        it +=1\n",
        "it = 0\n",
        "with open('/content/gdrive/My Drive/Colab_Data/Rajesh/result_33.txt') as f:\n",
        "    for line in f:\n",
        "        o1, o2 = line.split(',')\n",
        "        output33[it]=float(o2[0:-2])\n",
        "        it +=1\n",
        "it = 0\n",
        "with open('/content/gdrive/My Drive/Colab_Data/Rajesh/result_34.txt') as f:\n",
        "    for line in f:\n",
        "        o1, o2 = line.split(',')\n",
        "        output34[it]=float(o2[0:-2])\n",
        "        it +=1"
      ],
      "execution_count": 0,
      "outputs": []
    },
    {
      "cell_type": "markdown",
      "metadata": {
        "id": "4J_jYgH1uZCv",
        "colab_type": "text"
      },
      "source": [
        "**Output 11**"
      ]
    },
    {
      "cell_type": "code",
      "metadata": {
        "id": "U3LiWWUhSNlt",
        "colab_type": "code",
        "outputId": "b438c381-67b3-411e-be48-6462caad645a",
        "colab": {
          "base_uri": "https://localhost:8080/",
          "height": 297
        }
      },
      "source": [
        "# create plot\n",
        "from matplotlib import pyplot as plt\n",
        "fig, ax = plt.subplots()\n",
        "bar_width = 0.02\n",
        "opacity = 0.8\n",
        "\n",
        "plt.xlim(0.4, 1.05)\n",
        "\n",
        "rects1 = plt.bar(x1, output11, bar_width,\n",
        "alpha=opacity,\n",
        "color='r',\n",
        "label='Test Original')\n",
        "\n",
        "rects2 = plt.bar(numpy.array(x1) + bar_width, output12, bar_width,\n",
        "alpha=opacity,\n",
        "color='b',\n",
        "label='Train Original')\n",
        "\n",
        "plt.xlabel('Attribution Based Confidance')\n",
        "plt.ylabel('Cumulative Fraction of Data')\n",
        "plt.legend()\n",
        "\n",
        "plt.tight_layout()\n",
        "plt.savefig('/content/gdrive/My Drive/Colab_Data/Rajesh/output11.pdf')  "
      ],
      "execution_count": 6,
      "outputs": [
        {
          "output_type": "display_data",
          "data": {
            "image/png": "[encoded data removed]",
            "text/plain": [
              "<Figure size 432x288 with 1 Axes>"
            ]
          },
          "metadata": {
            "tags": [],
            "needs_background": "light"
          }
        }
      ]
    },
    {
      "cell_type": "code",
      "metadata": {
        "id": "6vQqxUnMuo4u",
        "colab_type": "code",
        "colab": {}
      },
      "source": [
        ""
      ],
      "execution_count": 0,
      "outputs": []
    },
    {
      "cell_type": "markdown",
      "metadata": {
        "id": "MJi6KcoFurKb",
        "colab_type": "text"
      },
      "source": [
        "**Output 12**"
      ]
    },
    {
      "cell_type": "code",
      "metadata": {
        "colab_type": "code",
        "id": "hMic7eLZupVG",
        "outputId": "0cbeda06-de73-4ebe-df6d-8bba4a74cf62",
        "colab": {
          "base_uri": "https://localhost:8080/",
          "height": 297
        }
      },
      "source": [
        "# create plot\n",
        "fig, ax = plt.subplots()\n",
        "bar_width = 0.02\n",
        "opacity = 0.8\n",
        "\n",
        "plt.xlim(0.4, 1.05)\n",
        "\n",
        "rects1 = plt.bar(x1, output13, bar_width,\n",
        "alpha=opacity,\n",
        "color='r',\n",
        "label='Test Original')\n",
        "\n",
        "rects2 = plt.bar(numpy.array(x1) + bar_width, output14, bar_width,\n",
        "alpha=opacity,\n",
        "color='b',\n",
        "label='Train Advesarial')\n",
        "\n",
        "plt.xlabel('Attribution Based Confidance')\n",
        "plt.ylabel('Cumulative Fraction of Data')\n",
        "plt.legend()\n",
        "\n",
        "plt.tight_layout()\n",
        "plt.savefig('/content/gdrive/My Drive/Colab_Data/Rajesh/output12.pdf')  "
      ],
      "execution_count": 7,
      "outputs": [
        {
          "output_type": "display_data",
          "data": {
            "image/png": "[encoded data removed]",
            "text/plain": [
              "<Figure size 432x288 with 1 Axes>"
            ]
          },
          "metadata": {
            "tags": [],
            "needs_background": "light"
          }
        }
      ]
    },
    {
      "cell_type": "markdown",
      "metadata": {
        "id": "2Gg4SvK4u7-M",
        "colab_type": "text"
      },
      "source": [
        "**Output 21**"
      ]
    },
    {
      "cell_type": "code",
      "metadata": {
        "id": "CAXrCePvu-oU",
        "colab_type": "code",
        "colab": {}
      },
      "source": [
        ""
      ],
      "execution_count": 0,
      "outputs": []
    },
    {
      "cell_type": "code",
      "metadata": {
        "colab_type": "code",
        "id": "xpdANL_zu_B1",
        "outputId": "876fb166-b905-41be-9650-954b21586a8b",
        "colab": {
          "base_uri": "https://localhost:8080/",
          "height": 297
        }
      },
      "source": [
        "# create plot\n",
        "fig, ax = plt.subplots()\n",
        "bar_width = 0.008\n",
        "opacity = 0.8\n",
        "\n",
        "plt.xlim(0.5, 1.05)\n",
        "\n",
        "rects1 = plt.bar(x2, output21, bar_width,\n",
        "alpha=opacity,\n",
        "color='r',\n",
        "label='Test Original')\n",
        "\n",
        "rects2 = plt.bar(numpy.array(x2) + bar_width, output22, bar_width,\n",
        "alpha=opacity,\n",
        "color='b',\n",
        "label='Train Original')\n",
        "\n",
        "plt.xlabel('Attribution Based Confidance')\n",
        "plt.ylabel('Cumulative Fraction of Data')\n",
        "plt.legend()\n",
        "\n",
        "plt.tight_layout()\n",
        "plt.savefig('/content/gdrive/My Drive/Colab_Data/Rajesh/output21.pdf')  "
      ],
      "execution_count": 8,
      "outputs": [
        {
          "output_type": "display_data",
          "data": {
            "image/png": "[encoded data removed]",
            "text/plain": [
              "<Figure size 432x288 with 1 Axes>"
            ]
          },
          "metadata": {
            "tags": [],
            "needs_background": "light"
          }
        }
      ]
    },
    {
      "cell_type": "markdown",
      "metadata": {
        "id": "RIMn_toBvID0",
        "colab_type": "text"
      },
      "source": [
        "**Output 22**"
      ]
    },
    {
      "cell_type": "code",
      "metadata": {
        "id": "wTfklZ-7vKMu",
        "colab_type": "code",
        "colab": {}
      },
      "source": [
        ""
      ],
      "execution_count": 0,
      "outputs": []
    },
    {
      "cell_type": "code",
      "metadata": {
        "colab_type": "code",
        "id": "VEDTbM7uvKi1",
        "outputId": "e71b04a5-fec6-45b4-d66a-1158c689f1b3",
        "colab": {
          "base_uri": "https://localhost:8080/",
          "height": 297
        }
      },
      "source": [
        "# create plot\n",
        "fig, ax = plt.subplots()\n",
        "bar_width = 0.008\n",
        "opacity = 0.8\n",
        "\n",
        "plt.xlim(0.5, 1.05)\n",
        "\n",
        "rects1 = plt.bar(x2, output23, bar_width,\n",
        "alpha=opacity,\n",
        "color='r',\n",
        "label='Test Original')\n",
        "\n",
        "rects2 = plt.bar(numpy.array(x2) + bar_width, output24, bar_width,\n",
        "alpha=opacity,\n",
        "color='b',\n",
        "label='Train Advesarial')\n",
        "\n",
        "plt.xlabel('Attribution Based Confidance')\n",
        "plt.ylabel('Cumulative Fraction of Data')\n",
        "plt.legend()\n",
        "\n",
        "plt.tight_layout()\n",
        "plt.savefig('/content/gdrive/My Drive/Colab_Data/Rajesh/output22.pdf')  "
      ],
      "execution_count": 9,
      "outputs": [
        {
          "output_type": "display_data",
          "data": {
            "image/png": "[encoded data removed]",
            "text/plain": [
              "<Figure size 432x288 with 1 Axes>"
            ]
          },
          "metadata": {
            "tags": [],
            "needs_background": "light"
          }
        }
      ]
    },
    {
      "cell_type": "markdown",
      "metadata": {
        "id": "-J88TZ1-vRxj",
        "colab_type": "text"
      },
      "source": [
        "**Output 31**"
      ]
    },
    {
      "cell_type": "code",
      "metadata": {
        "id": "0g6svepevU9D",
        "colab_type": "code",
        "colab": {}
      },
      "source": [
        ""
      ],
      "execution_count": 0,
      "outputs": []
    },
    {
      "cell_type": "code",
      "metadata": {
        "colab_type": "code",
        "id": "4XoFr3MVvVZn",
        "outputId": "6eeaf631-38db-4269-d81e-16e401c113ab",
        "colab": {
          "base_uri": "https://localhost:8080/",
          "height": 297
        }
      },
      "source": [
        "# create plot\n",
        "fig, ax = plt.subplots()\n",
        "bar_width = 0.008\n",
        "opacity = 0.8\n",
        "\n",
        "plt.xlim(0.4, 1.05)\n",
        "\n",
        "rects1 = plt.bar(x3, output31, bar_width,\n",
        "alpha=opacity,\n",
        "color='r',\n",
        "label='Test Original')\n",
        "\n",
        "rects2 = plt.bar(numpy.array(x3) + bar_width, output32, bar_width,\n",
        "alpha=opacity,\n",
        "color='b',\n",
        "label='Train Advesarial')\n",
        "\n",
        "plt.xlabel('Attribution Based Confidance')\n",
        "plt.ylabel('Cumulative Fraction of Data')\n",
        "plt.legend()\n",
        "\n",
        "plt.tight_layout()\n",
        "plt.savefig('/content/gdrive/My Drive/Colab_Data/Rajesh/output31.pdf')  "
      ],
      "execution_count": 10,
      "outputs": [
        {
          "output_type": "display_data",
          "data": {
            "image/png": "[encoded data removed]",
            "text/plain": [
              "<Figure size 432x288 with 1 Axes>"
            ]
          },
          "metadata": {
            "tags": [],
            "needs_background": "light"
          }
        }
      ]
    },
    {
      "cell_type": "markdown",
      "metadata": {
        "id": "DQW2OK-vvbid",
        "colab_type": "text"
      },
      "source": [
        "**Output 32**"
      ]
    },
    {
      "cell_type": "code",
      "metadata": {
        "id": "IIyCVlnKveLj",
        "colab_type": "code",
        "colab": {}
      },
      "source": [
        ""
      ],
      "execution_count": 0,
      "outputs": []
    },
    {
      "cell_type": "code",
      "metadata": {
        "colab_type": "code",
        "id": "nCpkZDSYvefn",
        "outputId": "f0e67f12-6519-42e6-e253-28b2069d8d4c",
        "colab": {
          "base_uri": "https://localhost:8080/",
          "height": 297
        }
      },
      "source": [
        "# create plot\n",
        "fig, ax = plt.subplots()\n",
        "bar_width = 0.008\n",
        "opacity = 0.8\n",
        "\n",
        "plt.xlim(0.4, 1.05)\n",
        "\n",
        "rects1 = plt.bar(x3, output33, bar_width,\n",
        "alpha=opacity,\n",
        "color='r',\n",
        "label='Test Original')\n",
        "\n",
        "rects2 = plt.bar(numpy.array(x3) + bar_width, output34, bar_width,\n",
        "alpha=opacity,\n",
        "color='b',\n",
        "label='Train Advesarial')\n",
        "\n",
        "plt.xlabel('Attribution Based Confidance')\n",
        "plt.ylabel('Cumulative Fraction of Data')\n",
        "plt.legend()\n",
        "\n",
        "plt.tight_layout()\n",
        "plt.savefig('/content/gdrive/My Drive/Colab_Data/Rajesh/output32.pdf')  "
      ],
      "execution_count": 11,
      "outputs": [
        {
          "output_type": "display_data",
          "data": {
            "image/png": "[encoded data removed]",
            "text/plain": [
              "<Figure size 432x288 with 1 Axes>"
            ]
          },
          "metadata": {
            "tags": [],
            "needs_background": "light"
          }
        }
      ]
    }
  ]
}