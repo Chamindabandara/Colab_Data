{
  "nbformat": 4,
  "nbformat_minor": 0,
  "metadata": {
    "colab": {
      "name": "Machine_Perception_Project1.ipynb",
      "provenance": [],
      "collapsed_sections": [],
      "authorship_tag": "ABX9TyOtn+8O7j0iLGFNyYJSoTVa",
      "include_colab_link": true
    },
    "kernelspec": {
      "name": "python3",
      "display_name": "Python 3"
    }
  },
  "cells": [
    {
      "cell_type": "markdown",
      "metadata": {
        "id": "view-in-github",
        "colab_type": "text"
      },
      "source": [
        "<a href=\"https://colab.research.google.com/github/Chamindabandara/Colab_Data/blob/master/Machine_Perception_Project1.ipynb\" target=\"_parent\"><img src=\"https://colab.research.google.com/assets/colab-badge.svg\" alt=\"Open In Colab\"/></a>"
      ]
    },
    {
      "cell_type": "code",
      "metadata": {
        "id": "gyQAKtc1pbW4"
      },
      "source": [
        "import torch\n",
        "import torchvision\n",
        "import torchvision.transforms as transforms"
      ],
      "execution_count": 90,
      "outputs": []
    },
    {
      "cell_type": "markdown",
      "metadata": {
        "id": "sTfbDhMyphPq"
      },
      "source": [
        "# Downloading, Loading and Normalising CIFAR-10"
      ]
    },
    {
      "cell_type": "code",
      "metadata": {
        "id": "cY7XwTgvplFF",
        "outputId": "c4907464-cd13-46dc-c888-672013e78bd9",
        "colab": {
          "base_uri": "https://localhost:8080/"
        }
      },
      "source": [
        "# This is the two-step process used to prepare the\n",
        "# data for use with the convolutional neural network.\n",
        "\n",
        "# First step is to convert Python Image Library (PIL) format\n",
        "# to PyTorch tensors.\n",
        "\n",
        "# Second step is used to normalize the data by specifying a \n",
        "# mean and standard deviation for each of the three channels.\n",
        "# This will convert the data from [0,1] to [-1,1]\n",
        "\n",
        "# Normalization of data should help speed up conversion and\n",
        "# reduce the chance of vanishing gradients with certain \n",
        "# activation functions.\n",
        "transform = transforms.Compose(\n",
        "    [transforms.ToTensor(),\n",
        "     transforms.Normalize((0.5, 0.5, 0.5), (0.5, 0.5, 0.5))])\n",
        "\n",
        "trainset = torchvision.datasets.CIFAR10(root='/home/CIFAR-10 Classifier Using CNN in PyTorch/data/', \n",
        "                                        train=True,\n",
        "                                        download=True, \n",
        "                                        transform=transform)\n",
        "trainloader = torch.utils.data.DataLoader(trainset, \n",
        "                                          batch_size=4,\n",
        "                                          shuffle=True)\n",
        "\n",
        "testset = torchvision.datasets.CIFAR10(root='./data', \n",
        "                                       train=False,\n",
        "                                       download=True, \n",
        "                                       transform=transform)\n",
        "testloader = torch.utils.data.DataLoader(testset, \n",
        "                                         batch_size=4,\n",
        "                                         shuffle=False)\n",
        "\n",
        "classes = ('plane', 'car', 'bird', 'cat', 'deer', \n",
        "           'dog', 'frog', 'horse', 'ship', 'truck')"
      ],
      "execution_count": 91,
      "outputs": [
        {
          "output_type": "stream",
          "text": [
            "Files already downloaded and verified\n",
            "Files already downloaded and verified\n"
          ],
          "name": "stdout"
        }
      ]
    },
    {
      "cell_type": "markdown",
      "metadata": {
        "id": "xvn-4PP8py9c"
      },
      "source": [
        "# Display Random Batch of 4 Training Images"
      ]
    },
    {
      "cell_type": "code",
      "metadata": {
        "id": "yVCmfP18p2la",
        "outputId": "b0bff8aa-8940-45b2-b297-7c844d686059",
        "colab": {
          "base_uri": "https://localhost:8080/",
          "height": 186
        }
      },
      "source": [
        "import matplotlib.pyplot as plt\n",
        "import numpy as np\n",
        "\n",
        "def convert_to_imshow_format(image):\n",
        "    # first convert back to [0,1] range from [-1,1] range\n",
        "    image = image / 2 + 0.5\n",
        "    image = image.numpy()\n",
        "    # convert from CHW to HWC\n",
        "    # from 3x32x32 to 32x32x3\n",
        "    return image.transpose(1,2,0)\n",
        "\n",
        "dataiter = iter(trainloader)\n",
        "images, labels = dataiter.next()\n",
        "\n",
        "fig, axes = plt.subplots(1, len(images), figsize=(12,2.5))\n",
        "for idx, image in enumerate(images):\n",
        "    axes[idx].imshow(convert_to_imshow_format(image))\n",
        "    axes[idx].set_title(classes[labels[idx]])\n",
        "    axes[idx].set_xticks([])\n",
        "    axes[idx].set_yticks([])"
      ],
      "execution_count": 92,
      "outputs": [
        {
          "output_type": "display_data",
          "data": {
            "image/png": "[encoded data removed]",
            "text/plain": [
              "<Figure size 864x180 with 4 Axes>"
            ]
          },
          "metadata": {
            "tags": []
          }
        }
      ]
    },
    {
      "cell_type": "markdown",
      "metadata": {
        "id": "SymxWX_Kp7CE"
      },
      "source": [
        "# Defining the Convolutional Neural Network"
      ]
    },
    {
      "cell_type": "code",
      "metadata": {
        "id": "3B2d56kzp9_L"
      },
      "source": [
        "import torch.nn as nn\n",
        "import torch.nn.functional as F\n",
        "\n",
        "class Net(nn.Module):\n",
        "    def __init__(self):\n",
        "        super(Net, self).__init__()\n",
        "        self.conv1 = nn.Conv2d(3, 32, 5)\n",
        "        self.pool = nn.MaxPool2d(2, 2)\n",
        "        self.conv2 = nn.Conv2d(32, 64, 5)\n",
        "        self.fc1 = nn.Linear(64 * 5 * 5, 480)\n",
        "        self.fc2 = nn.Linear(480, 84)\n",
        "        self.fc3 = nn.Linear(84, 10)\n",
        "        self.dropout = nn.Dropout(p=0.5)\n",
        "\n",
        "\n",
        "    def forward(self, x):\n",
        "        x = self.pool(F.relu(self.conv1(x)))\n",
        "        x = self.pool(F.relu(self.conv2(x)))\n",
        "        x = x.view(-1, 64 * 5 * 5)\n",
        "        x = self.dropout(F.relu(self.fc1(x)))\n",
        "        x = self.dropout(F.relu(self.fc2(x)))\n",
        "        x = self.fc3(x)\n",
        "        return x\n",
        "    \n",
        "net = Net()"
      ],
      "execution_count": 93,
      "outputs": []
    },
    {
      "cell_type": "markdown",
      "metadata": {
        "id": "timk3U1HqBVR"
      },
      "source": [
        "# Defining the Loss Function and Optimizer"
      ]
    },
    {
      "cell_type": "code",
      "metadata": {
        "id": "kAIdWbosqEOc"
      },
      "source": [
        "import torch.optim as optim\n",
        "\n",
        "criterion = nn.CrossEntropyLoss()\n",
        "optimizer = optim.SGD(net.parameters(), lr=0.001, momentum=0.9)"
      ],
      "execution_count": 94,
      "outputs": []
    },
    {
      "cell_type": "markdown",
      "metadata": {
        "id": "82-x5eLUqH0j"
      },
      "source": [
        "# Training the Network"
      ]
    },
    {
      "cell_type": "code",
      "metadata": {
        "id": "1VJQiQMoqLID",
        "outputId": "07e5709f-f077-46f3-dd7f-a02b19cc850a",
        "colab": {
          "base_uri": "https://localhost:8080/"
        }
      },
      "source": [
        "import os\n",
        "\n",
        "model_directory_path = '/home/CIFAR-10 Classifier Using CNN in PyTorch/model/'\n",
        "model_path = model_directory_path + 'cifar-10-cnn-model.pt'\n",
        "\n",
        "if not os.path.exists(model_directory_path):\n",
        "    os.makedirs(model_directory_path)\n",
        "\n",
        "if os.path.isfile(model_path):\n",
        "    # load trained model parameters from disk\n",
        "    net.load_state_dict(torch.load(model_path))\n",
        "    print('Loaded model parameters from disk.')\n",
        "else:\n",
        "    for epoch in range(50):  # loop over the dataset multiple times\n",
        "\n",
        "        running_loss = 0.0\n",
        "        for i, data in enumerate(trainloader, 0):\n",
        "            # get the inputs\n",
        "            inputs, labels = data\n",
        "\n",
        "            # zero the parameter gradients\n",
        "            optimizer.zero_grad()\n",
        "\n",
        "            # forward + backward + optimize\n",
        "            outputs = net(inputs)\n",
        "            loss = criterion(outputs, labels)\n",
        "            loss.backward()\n",
        "            optimizer.step()\n",
        "\n",
        "            # print statistics\n",
        "            running_loss += loss.item()\n",
        "            if i % 2000 == 1999:    # print every 2000 mini-batches\n",
        "                print('[%d, %5d] loss: %.3f' %\n",
        "                      (epoch + 1, i + 1, running_loss / 2000))\n",
        "                running_loss = 0.0\n",
        "    print('Finished Training.')\n",
        "    torch.save(net.state_dict(), model_path)\n",
        "    print('Saved model parameters to disk.')"
      ],
      "execution_count": 95,
      "outputs": [
        {
          "output_type": "stream",
          "text": [
            "[1,  2000] loss: 2.159\n",
            "[1,  4000] loss: 1.874\n",
            "[1,  6000] loss: 1.732\n",
            "[1,  8000] loss: 1.622\n",
            "[1, 10000] loss: 1.541\n",
            "[1, 12000] loss: 1.491\n",
            "[2,  2000] loss: 1.414\n",
            "[2,  4000] loss: 1.404\n",
            "[2,  6000] loss: 1.363\n",
            "[2,  8000] loss: 1.313\n",
            "[2, 10000] loss: 1.274\n",
            "[2, 12000] loss: 1.263\n",
            "[3,  2000] loss: 1.194\n",
            "[3,  4000] loss: 1.192\n",
            "[3,  6000] loss: 1.155\n",
            "[3,  8000] loss: 1.165\n",
            "[3, 10000] loss: 1.139\n",
            "[3, 12000] loss: 1.117\n",
            "[4,  2000] loss: 1.035\n",
            "[4,  4000] loss: 1.060\n",
            "[4,  6000] loss: 1.049\n",
            "[4,  8000] loss: 1.011\n",
            "[4, 10000] loss: 1.038\n",
            "[4, 12000] loss: 1.015\n",
            "[5,  2000] loss: 0.939\n",
            "[5,  4000] loss: 0.955\n",
            "[5,  6000] loss: 0.950\n",
            "[5,  8000] loss: 0.932\n",
            "[5, 10000] loss: 0.959\n",
            "[5, 12000] loss: 0.952\n",
            "[6,  2000] loss: 0.849\n",
            "[6,  4000] loss: 0.870\n",
            "[6,  6000] loss: 0.872\n",
            "[6,  8000] loss: 0.875\n",
            "[6, 10000] loss: 0.889\n",
            "[6, 12000] loss: 0.922\n",
            "[7,  2000] loss: 0.799\n",
            "[7,  4000] loss: 0.800\n",
            "[7,  6000] loss: 0.836\n",
            "[7,  8000] loss: 0.850\n",
            "[7, 10000] loss: 0.832\n",
            "[7, 12000] loss: 0.836\n",
            "[8,  2000] loss: 0.751\n",
            "[8,  4000] loss: 0.722\n",
            "[8,  6000] loss: 0.773\n",
            "[8,  8000] loss: 0.789\n",
            "[8, 10000] loss: 0.782\n",
            "[8, 12000] loss: 0.794\n",
            "[9,  2000] loss: 0.709\n",
            "[9,  4000] loss: 0.714\n",
            "[9,  6000] loss: 0.714\n",
            "[9,  8000] loss: 0.758\n",
            "[9, 10000] loss: 0.733\n",
            "[9, 12000] loss: 0.756\n",
            "[10,  2000] loss: 0.646\n",
            "[10,  4000] loss: 0.666\n",
            "[10,  6000] loss: 0.691\n",
            "[10,  8000] loss: 0.717\n",
            "[10, 10000] loss: 0.688\n",
            "[10, 12000] loss: 0.702\n",
            "[11,  2000] loss: 0.621\n",
            "[11,  4000] loss: 0.638\n",
            "[11,  6000] loss: 0.657\n",
            "[11,  8000] loss: 0.642\n",
            "[11, 10000] loss: 0.644\n",
            "[11, 12000] loss: 0.662\n",
            "[12,  2000] loss: 0.574\n",
            "[12,  4000] loss: 0.625\n",
            "[12,  6000] loss: 0.632\n",
            "[12,  8000] loss: 0.612\n",
            "[12, 10000] loss: 0.631\n",
            "[12, 12000] loss: 0.642\n",
            "[13,  2000] loss: 0.540\n",
            "[13,  4000] loss: 0.586\n",
            "[13,  6000] loss: 0.593\n",
            "[13,  8000] loss: 0.594\n",
            "[13, 10000] loss: 0.611\n",
            "[13, 12000] loss: 0.617\n",
            "[14,  2000] loss: 0.538\n",
            "[14,  4000] loss: 0.552\n",
            "[14,  6000] loss: 0.594\n",
            "[14,  8000] loss: 0.575\n",
            "[14, 10000] loss: 0.575\n",
            "[14, 12000] loss: 0.576\n",
            "[15,  2000] loss: 0.511\n",
            "[15,  4000] loss: 0.524\n",
            "[15,  6000] loss: 0.541\n",
            "[15,  8000] loss: 0.560\n",
            "[15, 10000] loss: 0.561\n",
            "[15, 12000] loss: 0.571\n",
            "[16,  2000] loss: 0.487\n",
            "[16,  4000] loss: 0.493\n",
            "[16,  6000] loss: 0.510\n",
            "[16,  8000] loss: 0.543\n",
            "[16, 10000] loss: 0.524\n",
            "[16, 12000] loss: 0.557\n",
            "[17,  2000] loss: 0.461\n",
            "[17,  4000] loss: 0.477\n",
            "[17,  6000] loss: 0.497\n",
            "[17,  8000] loss: 0.513\n",
            "[17, 10000] loss: 0.506\n",
            "[17, 12000] loss: 0.535\n",
            "[18,  2000] loss: 0.456\n",
            "[18,  4000] loss: 0.480\n",
            "[18,  6000] loss: 0.475\n",
            "[18,  8000] loss: 0.504\n",
            "[18, 10000] loss: 0.524\n",
            "[18, 12000] loss: 0.514\n",
            "[19,  2000] loss: 0.456\n",
            "[19,  4000] loss: 0.465\n",
            "[19,  6000] loss: 0.461\n",
            "[19,  8000] loss: 0.484\n",
            "[19, 10000] loss: 0.493\n",
            "[19, 12000] loss: 0.519\n",
            "[20,  2000] loss: 0.420\n",
            "[20,  4000] loss: 0.430\n",
            "[20,  6000] loss: 0.448\n",
            "[20,  8000] loss: 0.475\n",
            "[20, 10000] loss: 0.454\n",
            "[20, 12000] loss: 0.489\n",
            "[21,  2000] loss: 0.408\n",
            "[21,  4000] loss: 0.451\n",
            "[21,  6000] loss: 0.440\n",
            "[21,  8000] loss: 0.445\n",
            "[21, 10000] loss: 0.469\n",
            "[21, 12000] loss: 0.475\n",
            "[22,  2000] loss: 0.406\n",
            "[22,  4000] loss: 0.438\n",
            "[22,  6000] loss: 0.442\n",
            "[22,  8000] loss: 0.451\n",
            "[22, 10000] loss: 0.469\n",
            "[22, 12000] loss: 0.471\n",
            "[23,  2000] loss: 0.400\n",
            "[23,  4000] loss: 0.416\n",
            "[23,  6000] loss: 0.425\n",
            "[23,  8000] loss: 0.432\n",
            "[23, 10000] loss: 0.440\n",
            "[23, 12000] loss: 0.425\n",
            "[24,  2000] loss: 0.392\n",
            "[24,  4000] loss: 0.373\n",
            "[24,  6000] loss: 0.406\n",
            "[24,  8000] loss: 0.390\n",
            "[24, 10000] loss: 0.430\n",
            "[24, 12000] loss: 0.409\n",
            "[25,  2000] loss: 0.377\n",
            "[25,  4000] loss: 0.399\n",
            "[25,  6000] loss: 0.381\n",
            "[25,  8000] loss: 0.412\n",
            "[25, 10000] loss: 0.426\n",
            "[25, 12000] loss: 0.415\n",
            "[26,  2000] loss: 0.362\n",
            "[26,  4000] loss: 0.367\n",
            "[26,  6000] loss: 0.379\n",
            "[26,  8000] loss: 0.420\n",
            "[26, 10000] loss: 0.413\n",
            "[26, 12000] loss: 0.399\n",
            "[27,  2000] loss: 0.370\n",
            "[27,  4000] loss: 0.379\n",
            "[27,  6000] loss: 0.398\n",
            "[27,  8000] loss: 0.410\n",
            "[27, 10000] loss: 0.416\n",
            "[27, 12000] loss: 0.424\n",
            "[28,  2000] loss: 0.354\n",
            "[28,  4000] loss: 0.350\n",
            "[28,  6000] loss: 0.367\n",
            "[28,  8000] loss: 0.384\n",
            "[28, 10000] loss: 0.375\n",
            "[28, 12000] loss: 0.386\n",
            "[29,  2000] loss: 0.343\n",
            "[29,  4000] loss: 0.354\n",
            "[29,  6000] loss: 0.367\n",
            "[29,  8000] loss: 0.374\n",
            "[29, 10000] loss: 0.409\n",
            "[29, 12000] loss: 0.393\n",
            "[30,  2000] loss: 0.349\n",
            "[30,  4000] loss: 0.351\n",
            "[30,  6000] loss: 0.334\n",
            "[30,  8000] loss: 0.341\n",
            "[30, 10000] loss: 0.346\n",
            "[30, 12000] loss: 0.370\n",
            "[31,  2000] loss: 0.321\n",
            "[31,  4000] loss: 0.344\n",
            "[31,  6000] loss: 0.361\n",
            "[31,  8000] loss: 0.365\n",
            "[31, 10000] loss: 0.353\n",
            "[31, 12000] loss: 0.370\n",
            "[32,  2000] loss: 0.334\n",
            "[32,  4000] loss: 0.321\n",
            "[32,  6000] loss: 0.372\n",
            "[32,  8000] loss: 0.378\n",
            "[32, 10000] loss: 0.346\n",
            "[32, 12000] loss: 0.380\n",
            "[33,  2000] loss: 0.286\n",
            "[33,  4000] loss: 0.341\n",
            "[33,  6000] loss: 0.351\n",
            "[33,  8000] loss: 0.342\n",
            "[33, 10000] loss: 0.377\n",
            "[33, 12000] loss: 0.347\n",
            "[34,  2000] loss: 0.325\n",
            "[34,  4000] loss: 0.340\n",
            "[34,  6000] loss: 0.329\n",
            "[34,  8000] loss: 0.361\n",
            "[34, 10000] loss: 0.330\n",
            "[34, 12000] loss: 0.337\n",
            "[35,  2000] loss: 0.312\n",
            "[35,  4000] loss: 0.307\n",
            "[35,  6000] loss: 0.311\n",
            "[35,  8000] loss: 0.357\n",
            "[35, 10000] loss: 0.353\n",
            "[35, 12000] loss: 0.338\n",
            "[36,  2000] loss: 0.283\n",
            "[36,  4000] loss: 0.327\n",
            "[36,  6000] loss: 0.294\n",
            "[36,  8000] loss: 0.335\n",
            "[36, 10000] loss: 0.356\n",
            "[36, 12000] loss: 0.348\n",
            "[37,  2000] loss: 0.331\n",
            "[37,  4000] loss: 0.326\n",
            "[37,  6000] loss: 0.326\n",
            "[37,  8000] loss: 0.337\n",
            "[37, 10000] loss: 0.350\n",
            "[37, 12000] loss: 0.321\n",
            "[38,  2000] loss: 0.297\n",
            "[38,  4000] loss: 0.345\n",
            "[38,  6000] loss: 0.328\n",
            "[38,  8000] loss: 0.347\n",
            "[38, 10000] loss: 0.352\n",
            "[38, 12000] loss: 0.323\n",
            "[39,  2000] loss: 0.309\n",
            "[39,  4000] loss: 0.305\n",
            "[39,  6000] loss: 0.349\n",
            "[39,  8000] loss: 0.321\n",
            "[39, 10000] loss: 0.359\n",
            "[39, 12000] loss: 0.347\n",
            "[40,  2000] loss: 0.303\n",
            "[40,  4000] loss: 0.292\n",
            "[40,  6000] loss: 0.341\n",
            "[40,  8000] loss: 0.321\n",
            "[40, 10000] loss: 0.343\n",
            "[40, 12000] loss: 0.340\n",
            "[41,  2000] loss: 0.293\n",
            "[41,  4000] loss: 0.312\n",
            "[41,  6000] loss: 0.312\n",
            "[41,  8000] loss: 0.304\n",
            "[41, 10000] loss: 0.330\n",
            "[41, 12000] loss: 0.336\n",
            "[42,  2000] loss: 0.272\n",
            "[42,  4000] loss: 0.322\n",
            "[42,  6000] loss: 0.290\n",
            "[42,  8000] loss: 0.341\n",
            "[42, 10000] loss: 0.331\n",
            "[42, 12000] loss: 0.356\n",
            "[43,  2000] loss: 0.276\n",
            "[43,  4000] loss: 0.285\n",
            "[43,  6000] loss: 0.320\n",
            "[43,  8000] loss: 0.301\n",
            "[43, 10000] loss: 0.320\n",
            "[43, 12000] loss: 0.330\n",
            "[44,  2000] loss: 0.284\n",
            "[44,  4000] loss: 0.298\n",
            "[44,  6000] loss: 0.287\n",
            "[44,  8000] loss: 0.305\n",
            "[44, 10000] loss: 0.342\n",
            "[44, 12000] loss: 0.308\n",
            "[45,  2000] loss: 0.289\n",
            "[45,  4000] loss: 0.313\n",
            "[45,  6000] loss: 0.317\n",
            "[45,  8000] loss: 0.320\n",
            "[45, 10000] loss: 0.324\n",
            "[45, 12000] loss: 0.310\n",
            "[46,  2000] loss: 0.300\n",
            "[46,  4000] loss: 0.293\n",
            "[46,  6000] loss: 0.320\n",
            "[46,  8000] loss: 0.285\n",
            "[46, 10000] loss: 0.305\n",
            "[46, 12000] loss: 0.326\n",
            "[47,  2000] loss: 0.285\n",
            "[47,  4000] loss: 0.287\n",
            "[47,  6000] loss: 0.310\n",
            "[47,  8000] loss: 0.307\n",
            "[47, 10000] loss: 0.334\n",
            "[47, 12000] loss: 0.333\n",
            "[48,  2000] loss: 0.299\n",
            "[48,  4000] loss: 0.287\n",
            "[48,  6000] loss: 0.328\n",
            "[48,  8000] loss: 0.315\n",
            "[48, 10000] loss: 0.323\n",
            "[48, 12000] loss: 0.307\n",
            "[49,  2000] loss: 0.287\n",
            "[49,  4000] loss: 0.288\n",
            "[49,  6000] loss: 0.295\n",
            "[49,  8000] loss: 0.306\n",
            "[49, 10000] loss: 0.304\n",
            "[49, 12000] loss: 0.325\n",
            "[50,  2000] loss: 0.239\n",
            "[50,  4000] loss: 0.268\n",
            "[50,  6000] loss: 0.275\n",
            "[50,  8000] loss: 0.301\n",
            "[50, 10000] loss: 0.331\n",
            "[50, 12000] loss: 0.304\n",
            "Finished Training.\n",
            "Saved model parameters to disk.\n"
          ],
          "name": "stdout"
        }
      ]
    },
    {
      "cell_type": "markdown",
      "metadata": {
        "id": "oBw9GVc9qP8H"
      },
      "source": [
        "# Testing the Network"
      ]
    },
    {
      "cell_type": "code",
      "metadata": {
        "id": "i4T_MDEnqSRV",
        "outputId": "f278d7ee-8b49-4ba1-9a89-dba6d59d2a4d",
        "colab": {
          "base_uri": "https://localhost:8080/",
          "height": 186
        }
      },
      "source": [
        "dataiter = iter(testloader)\n",
        "images, labels = dataiter.next()\n",
        "\n",
        "fig, axes = plt.subplots(1, len(images), figsize=(12,2.5))\n",
        "for idx, image in enumerate(images):\n",
        "    axes[idx].imshow(convert_to_imshow_format(image))\n",
        "    axes[idx].set_title(classes[labels[idx]])\n",
        "    axes[idx].set_xticks([])\n",
        "    axes[idx].set_yticks([])"
      ],
      "execution_count": 96,
      "outputs": [
        {
          "output_type": "display_data",
          "data": {
            "image/png": "[encoded data removed]",
            "text/plain": [
              "<Figure size 864x180 with 4 Axes>"
            ]
          },
          "metadata": {
            "tags": []
          }
        }
      ]
    },
    {
      "cell_type": "code",
      "metadata": {
        "id": "436FSsUTqYba",
        "outputId": "8b632d59-6135-48c6-f6a5-ef9b82ed7250",
        "colab": {
          "base_uri": "https://localhost:8080/"
        }
      },
      "source": [
        "outputs = net(images)\n",
        "outputs\n",
        "sm = nn.Softmax(dim=1)\n",
        "sm_outputs = sm(outputs)\n",
        "print(sm_outputs)"
      ],
      "execution_count": 97,
      "outputs": [
        {
          "output_type": "stream",
          "text": [
            "tensor([[9.6404e-09, 1.6926e-07, 3.0643e-05, 2.6768e-01, 1.0665e-05, 1.2809e-03,\n",
            "         7.3090e-01, 1.3082e-05, 2.5932e-07, 8.6653e-05],\n",
            "        [2.5210e-17, 4.1885e-24, 4.7837e-29, 4.3904e-23, 1.5902e-24, 8.4976e-32,\n",
            "         1.5100e-30, 8.1491e-26, 1.0000e+00, 1.6525e-21],\n",
            "        [2.5989e-02, 6.6555e-03, 8.4844e-03, 1.0822e-01, 3.6509e-02, 5.3259e-02,\n",
            "         4.1251e-02, 5.9772e-03, 7.0730e-01, 6.3578e-03],\n",
            "        [9.9999e-01, 4.5973e-09, 5.5815e-06, 1.4060e-11, 4.3220e-06, 2.1882e-12,\n",
            "         9.0302e-08, 4.4948e-09, 1.7631e-08, 9.0896e-10]],\n",
            "       grad_fn=<SoftmaxBackward>)\n"
          ],
          "name": "stdout"
        }
      ]
    },
    {
      "cell_type": "markdown",
      "metadata": {
        "id": "rO9Lq5ttqgd9"
      },
      "source": [
        "# Predicted Category for Four Test Images"
      ]
    },
    {
      "cell_type": "code",
      "metadata": {
        "id": "YYengN8bqm3Y",
        "outputId": "3c26aa33-43bb-4c13-f7ab-6289791c7991",
        "colab": {
          "base_uri": "https://localhost:8080/"
        }
      },
      "source": [
        "probs, index = torch.max(sm_outputs, dim=1)\n",
        "\n",
        "for p, i in zip(probs, index):\n",
        "    print('{0} - {1:.4f}'.format(classes[i], p))"
      ],
      "execution_count": 98,
      "outputs": [
        {
          "output_type": "stream",
          "text": [
            "frog - 0.7309\n",
            "ship - 1.0000\n",
            "ship - 0.7073\n",
            "plane - 1.0000\n"
          ],
          "name": "stdout"
        }
      ]
    },
    {
      "cell_type": "markdown",
      "metadata": {
        "id": "NW_0iA-Uqped"
      },
      "source": [
        "# Predicting the Category for all Test Images"
      ]
    },
    {
      "cell_type": "code",
      "metadata": {
        "id": "hy8-zlhYqsER",
        "outputId": "5224ac16-b75a-49c7-c2f8-441f58e54cb8",
        "colab": {
          "base_uri": "https://localhost:8080/"
        }
      },
      "source": [
        "total_correct = 0\n",
        "total_images = 0\n",
        "confusion_matrix = np.zeros([10,10], int)\n",
        "with torch.no_grad():\n",
        "    for data in testloader:\n",
        "        images, labels = data\n",
        "        outputs = net(images)\n",
        "        _, predicted = torch.max(outputs.data, 1)\n",
        "        total_images += labels.size(0)\n",
        "        total_correct += (predicted == labels).sum().item()\n",
        "        for i, l in enumerate(labels):\n",
        "            confusion_matrix[l.item(), predicted[i].item()] += 1 \n",
        "\n",
        "model_accuracy = total_correct / total_images * 100\n",
        "print('Model accuracy on {0} test images: {1:.2f}%'.format(total_images, model_accuracy))"
      ],
      "execution_count": 99,
      "outputs": [
        {
          "output_type": "stream",
          "text": [
            "Model accuracy on 10000 test images: 68.39%\n"
          ],
          "name": "stdout"
        }
      ]
    },
    {
      "cell_type": "code",
      "metadata": {
        "id": "A-Djhc8xqwlB",
        "outputId": "4a0bcb07-a553-4e65-ca33-8f4b06fe8146",
        "colab": {
          "base_uri": "https://localhost:8080/"
        }
      },
      "source": [
        "print('{0:10s} - {1}'.format('Category','Accuracy'))\n",
        "for i, r in enumerate(confusion_matrix):\n",
        "    print('{0:10s} - {1:.1f}'.format(classes[i], r[i]/np.sum(r)*100))"
      ],
      "execution_count": 100,
      "outputs": [
        {
          "output_type": "stream",
          "text": [
            "Category   - Accuracy\n",
            "plane      - 76.3\n",
            "car        - 77.6\n",
            "bird       - 59.9\n",
            "cat        - 52.1\n",
            "deer       - 60.9\n",
            "dog        - 57.3\n",
            "frog       - 73.6\n",
            "horse      - 66.9\n",
            "ship       - 85.1\n",
            "truck      - 74.2\n"
          ],
          "name": "stdout"
        }
      ]
    },
    {
      "cell_type": "code",
      "metadata": {
        "id": "MfjcAt59qy60",
        "outputId": "e9a3f0d4-6cf4-4fe7-f177-28a2b3a77ec8",
        "colab": {
          "base_uri": "https://localhost:8080/",
          "height": 388
        }
      },
      "source": [
        "fig, ax = plt.subplots(1,1,figsize=(8,6))\n",
        "ax.matshow(confusion_matrix, aspect='auto', vmin=0, vmax=1000, cmap=plt.get_cmap('Blues'))\n",
        "plt.ylabel('Actual Category')\n",
        "plt.yticks(range(10), classes)\n",
        "plt.xlabel('Predicted Category')\n",
        "plt.xticks(range(10), classes)\n",
        "plt.show()\n"
      ],
      "execution_count": 101,
      "outputs": [
        {
          "output_type": "display_data",
          "data": {
            "image/png": "[encoded data removed]",
            "text/plain": [
              "<Figure size 576x432 with 1 Axes>"
            ]
          },
          "metadata": {
            "tags": [],
            "needs_background": "light"
          }
        }
      ]
    },
    {
      "cell_type": "code",
      "metadata": {
        "id": "gMcQPUD2q1mM",
        "outputId": "e8d84899-a9ab-467f-a802-092a1e2bb00d",
        "colab": {
          "base_uri": "https://localhost:8080/"
        }
      },
      "source": [
        "print('actual/pred'.ljust(16), end='')\n",
        "for i,c in enumerate(classes):\n",
        "    print(c.ljust(10), end='')\n",
        "print()\n",
        "for i,r in enumerate(confusion_matrix):\n",
        "    print(classes[i].ljust(16), end='')\n",
        "    for idx, p in enumerate(r):\n",
        "        print(str(p).ljust(10), end='')\n",
        "    print()\n",
        "    \n",
        "    r = r/np.sum(r)\n",
        "    print(''.ljust(16), end='')\n",
        "    for idx, p in enumerate(r):\n",
        "        print(str(p).ljust(10), end='')\n",
        "    print()"
      ],
      "execution_count": 102,
      "outputs": [
        {
          "output_type": "stream",
          "text": [
            "actual/pred     plane     car       bird      cat       deer      dog       frog      horse     ship      truck     \n",
            "plane           763       13        35        33        14        8         8         12        88        26        \n",
            "                0.763     0.013     0.035     0.033     0.014     0.008     0.008     0.012     0.088     0.026     \n",
            "car             40        776       4         10        12        8         14        5         50        81        \n",
            "                0.04      0.776     0.004     0.01      0.012     0.008     0.014     0.005     0.05      0.081     \n",
            "bird            97        4         599       77        63        70        40        19        19        12        \n",
            "                0.097     0.004     0.599     0.077     0.063     0.07      0.04      0.019     0.019     0.012     \n",
            "cat             29        5         62        521       53        178       74        31        33        14        \n",
            "                0.029     0.005     0.062     0.521     0.053     0.178     0.074     0.031     0.033     0.014     \n",
            "deer            38        6         86        97        609       44        42        57        12        9         \n",
            "                0.038     0.006     0.086     0.097     0.609     0.044     0.042     0.057     0.012     0.009     \n",
            "dog             22        3         63        204       43        573       31        39        9         13        \n",
            "                0.022     0.003     0.063     0.204     0.043     0.573     0.031     0.039     0.009     0.013     \n",
            "frog            11        6         49        107       35        33        736       6         12        5         \n",
            "                0.011     0.006     0.049     0.107     0.035     0.033     0.736     0.006     0.012     0.005     \n",
            "horse           25        8         36        76        79        70        13        669       6         18        \n",
            "                0.025     0.008     0.036     0.076     0.079     0.07      0.013     0.669     0.006     0.018     \n",
            "ship            60        13        10        28        7         7         4         2         851       18        \n",
            "                0.06      0.013     0.01      0.028     0.007     0.007     0.004     0.002     0.851     0.018     \n",
            "truck           73        58        8         29        10        6         9         13        52        742       \n",
            "                0.073     0.058     0.008     0.029     0.01      0.006     0.009     0.013     0.052     0.742     \n"
          ],
          "name": "stdout"
        }
      ]
    }
  ]
}